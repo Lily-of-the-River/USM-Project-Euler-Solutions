{
 "cells": [
  {
   "cell_type": "code",
   "execution_count": 26,
   "metadata": {},
   "outputs": [
    {
     "name": "stdout",
     "output_type": "stream",
     "text": [
      "104743"
     ]
    }
   ],
   "source": [
    "using Primes\n",
    "\n",
    "Prime_list = []\n",
    "\n",
    "x = 0\n",
    "N = 10001\n",
    "while length(Prime_list) != N\n",
    "    x = x+1\n",
    "    if isprime(x) == true\n",
    "        append!(Prime_list,x)\n",
    "    end\n",
    "end\n",
    "\n",
    "print(Prime_list[10001])\n"
   ]
  },
  {
   "cell_type": "code",
   "execution_count": 45,
   "metadata": {},
   "outputs": [
    {
     "data": {
      "text/plain": [
       "lily_prime (generic function with 1 method)"
      ]
     },
     "metadata": {},
     "output_type": "display_data"
    }
   ],
   "source": [
    "\n",
    "function Nth_Prime(N) #nth prime\n",
    "    Prime_list = []\n",
    "    x = 0\n",
    "    while length(Prime_list) != N\n",
    "        x = x+1\n",
    "        if lily_prime(x) == true\n",
    "            append!(Prime_list,x)\n",
    "        end\n",
    "    end\n",
    "\n",
    "    return print(Prime_list[N], \" is the \", N ,\"th Prime!\")\n",
    "end \n",
    "\n",
    "function lily_prime(N)\n",
    "    isprime = true\n",
    "    \n",
    "    if N == 1\n",
    "        isprime = false\n",
    "    end\n",
    "\n",
    "    for i in 2:convert(Int64, round(N/2, digits = 0))\n",
    "        if N%i == 0 \n",
    "            isprime = false\n",
    "            break\n",
    "        end\n",
    "    end\n",
    "    return isprime\n",
    "end"
   ]
  },
  {
   "cell_type": "code",
   "execution_count": 42,
   "metadata": {},
   "outputs": [
    {
     "data": {
      "text/plain": [
       "true"
      ]
     },
     "metadata": {},
     "output_type": "display_data"
    }
   ],
   "source": [
    "lily_prime(2)"
   ]
  },
  {
   "cell_type": "code",
   "execution_count": 46,
   "metadata": {},
   "outputs": [
    {
     "name": "stdout",
     "output_type": "stream",
     "text": [
      "104743 is the 10001th Prime!"
     ]
    }
   ],
   "source": [
    "Nth_Prime(10001)"
   ]
  },
  {
   "cell_type": "code",
   "execution_count": null,
   "metadata": {},
   "outputs": [],
   "source": []
  }
 ],
 "metadata": {
  "kernelspec": {
   "display_name": "Julia 1.8.5",
   "language": "julia",
   "name": "julia-1.8"
  },
  "language_info": {
   "file_extension": ".jl",
   "mimetype": "application/julia",
   "name": "julia",
   "version": "1.8.5"
  },
  "orig_nbformat": 4
 },
 "nbformat": 4,
 "nbformat_minor": 2
}
