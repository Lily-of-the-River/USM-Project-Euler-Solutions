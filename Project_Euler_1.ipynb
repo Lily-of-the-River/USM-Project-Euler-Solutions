{
 "cells": [
  {
   "attachments": {},
   "cell_type": "markdown",
   "metadata": {},
   "source": [
    "Project Euler Problem 1 solution"
   ]
  },
  {
   "cell_type": "code",
   "execution_count": 69,
   "metadata": {},
   "outputs": [
    {
     "data": {
      "text/plain": [
       "sum_below_n (generic function with 1 method)"
      ]
     },
     "metadata": {},
     "output_type": "display_data"
    }
   ],
   "source": [
    "\"\"\"\n",
    "This function takes in any set of positive integers (or zero) and finds the value of of the sum of the interger multiples of those values below a number, N.\n",
    "Inputs: A vector of positive integers, A positive Integer\n",
    "Outputs: The sum of the multiples of the input vector values below the input integers\n",
    "\n",
    "#There is a way to make the repl work here but idk\n",
    "\"\"\"\n",
    "\n",
    "#We are creating a general function that can do what is requested in Problem one for any set of integer inputs.\n",
    "function sum_below_n(r::Vector, N) #r::Vector(Integers), N::Integer (Technically you don't have to use integers with how this is programmed)\n",
    "    #We start this function by initializing a list that we will eventually sum over. This list exists outside of any for loop so any additions to it will persist for the run of the function\n",
    "    sumlist = [] \n",
    "    for i in 1:1:N #This first for loop is simply for running until we reach N, in steps of 1, starting at 1. (This looks inefficient but there is a fix used later)\n",
    "        values = [] #This list is initiated inside of a for loop so that it resets each time the loop restarts. \n",
    "        #The next step is for us to find the values of each multiple of the given integers and add them to the values list.\n",
    "        for j in 1:1:length(r) \n",
    "            value = r[j]*i #This multiplies the jth term in the r vector by the current iteration number from the first loop.\n",
    "            append!(values,value) #append! lets us take a preexisting list and add a value or another list to the end of it.\n",
    "        end #In julia, For loops and If statements require an 'end'\n",
    "\n",
    "        #Next, We use the following if statments to determine if the values in the values list fit the conditions of the problem.\n",
    "        #This first if statement exists for 0 valued sums such as if all of the values in the values list are 0 or if N is less than all of the input integers\n",
    "        #The maximum() function finds the highest value in a list. Here we are using the <= to see if the maximum value in the value list is less than or equal to zero.\n",
    "        #The minimum() function finds the lowest value in a list. Here we are using the >= to see if the minimum value in the input vector is greater than or equal to N.\n",
    "        #These two are the conditions for when the end sum would be zero, so we append!() 0 to our sum list. \n",
    "        #We can check for both of these conditions with one if statement with ||. This will check both conditions and if either are true, the statement runs.\n",
    "        if maximum(values) <= 0 || minimum(r) >= N\n",
    "            append!(sumlist,0)\n",
    "            break #The break here will stop the initial for loop when triggered. This is the fix that prevents that loop from usually going up to the Nth interation.\n",
    "        #The next condition we check for is if all values in the values list are above N. \n",
    "        #Using filter!() we can remove values from a list based on the condition we put into it. Here we use '!=(0)' so all values in the list equal to 0 are removed.\n",
    "        #Using minimum() to take the minimum value from the filtered list and seeing if it is equal to or great than N lets us stop the for loop early.\n",
    "        #If the lowest value is greater than the maximum value we are looking for (Values below N), then we already have all of the values needed to sum and we can stop the for loop early with 'break'.\n",
    "        elseif minimum(filter!(!=(0),values)) >= N \n",
    "            break\n",
    "        #Next, we filter all values in the values list below N and append them to the sum list.\n",
    "        else\n",
    "            values = filter!(<(N),values)  \n",
    "            append!(sumlist,values)\n",
    "        end\n",
    "    end\n",
    "\n",
    "    #The unique() function filters out all duplicates of values so each value only appears once. unique([1,4,3,4,1]) = [1,4,3]\n",
    "    #The sum() function takes a list of values and adds them together\n",
    "    return sum(unique(sumlist)) #The 'return' here is what the function will output when run.\n",
    "end #Functions also need an 'end'\n",
    "\n"
   ]
  },
  {
   "cell_type": "code",
   "execution_count": 74,
   "metadata": {},
   "outputs": [
    {
     "data": {
      "text/plain": [
       "23"
      ]
     },
     "metadata": {},
     "output_type": "display_data"
    }
   ],
   "source": [
    "sum_below_n([3,5],10)"
   ]
  },
  {
   "cell_type": "code",
   "execution_count": null,
   "metadata": {},
   "outputs": [],
   "source": []
  }
 ],
 "metadata": {
  "kernelspec": {
   "display_name": "Julia 1.8.5",
   "language": "julia",
   "name": "julia-1.8"
  },
  "language_info": {
   "file_extension": ".jl",
   "mimetype": "application/julia",
   "name": "julia",
   "version": "1.8.5"
  },
  "orig_nbformat": 4
 },
 "nbformat": 4,
 "nbformat_minor": 2
}
