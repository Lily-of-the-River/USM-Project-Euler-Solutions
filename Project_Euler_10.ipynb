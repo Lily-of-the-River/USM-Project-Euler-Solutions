{
 "cells": [
  {
   "cell_type": "code",
   "execution_count": 12,
   "metadata": {},
   "outputs": [
    {
     "data": {
      "text/plain": [
       "summed_primes (generic function with 1 method)"
      ]
     },
     "metadata": {},
     "output_type": "display_data"
    }
   ],
   "source": [
    "function Nth_and_below_Primes(N) #nth and below primes\n",
    "    Prime_list = [0] #The 0 is so N <= 2 doesn't give an error\n",
    "    x = 1\n",
    "    while x < N\n",
    "        if lily_prime(x) == true\n",
    "            append!(Prime_list,x)\n",
    "        end\n",
    "        x = x+1\n",
    "    end\n",
    "\n",
    "    return Prime_list\n",
    "end \n",
    "\n",
    "function lily_prime(N)\n",
    "    isprime = true\n",
    "    \n",
    "    if N == 1\n",
    "        isprime = false\n",
    "    end\n",
    "\n",
    "    for i in 2:convert(Int64, round(N/2, digits = 0))\n",
    "        if N%i == 0 \n",
    "            isprime = false\n",
    "            break\n",
    "        end\n",
    "    end\n",
    "    return isprime\n",
    "end\n",
    "\n",
    "function summed_primes(N)\n",
    "    return sum(Nth_and_below_Primes(N))\n",
    "end\n"
   ]
  },
  {
   "cell_type": "code",
   "execution_count": 14,
   "metadata": {},
   "outputs": [
    {
     "data": {
      "text/plain": [
       "142913828922"
      ]
     },
     "metadata": {},
     "output_type": "display_data"
    }
   ],
   "source": [
    "summed_primes(2000000)"
   ]
  }
 ],
 "metadata": {
  "kernelspec": {
   "display_name": "Julia 1.8.5",
   "language": "julia",
   "name": "julia-1.8"
  },
  "language_info": {
   "file_extension": ".jl",
   "mimetype": "application/julia",
   "name": "julia",
   "version": "1.8.5"
  },
  "orig_nbformat": 4
 },
 "nbformat": 4,
 "nbformat_minor": 2
}
